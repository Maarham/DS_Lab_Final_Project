{
 "cells": [
  {
   "cell_type": "code",
   "execution_count": null,
   "metadata": {},
   "outputs": [],
   "source": [
    "from openai import OpenAI\n",
    "import json\n",
    "from dotenv import load_dotenv\n",
    "import os\n",
    "\n",
    "load_dotenv()\n",
    "\n",
    "api_key=os.getenv(\"OPENAI_API_KEY\")\n",
    "client = OpenAI(api_key=api_key)\n",
    "\n",
    "def reformat_sentiment(original_text):\n",
    "    response = client.chat.completions.create(\n",
    "        model=\"gpt-3.5-turbo-0125\",  # Or any other suitable model\n",
    "        temperature=0.7,\n",
    "        max_tokens=150,\n",
    "        messages=[\n",
    "            {\"role\": \"system\", \"content\": f\"Please respond to the patient as a therapist, providing advice to solve the problem.\"},\n",
    "            {\"role\": \"user\", \"content\": original_text}\n",
    "        ]\n",
    "    )\n",
    "    return response  # Assuming API format returns this path; adjust based on actual API response"
   ]
  },
  {
   "cell_type": "code",
   "execution_count": null,
   "metadata": {},
   "outputs": [],
   "source": [
    "original_text = \"\"\"My mom and I have been fighting a lot now, and I just want a good relationship with her.\"\"\"\n",
    "response = reformat_sentiment(original_text)\n",
    "\n",
    "# response_data = json.loads(response)\n",
    "formatted_content = response.choices[0].message.content\n",
    "\n",
    "print(formatted_content)"
   ]
  }
 ],
 "metadata": {
  "kernelspec": {
   "display_name": "Python 3",
   "language": "python",
   "name": "python3"
  },
  "language_info": {
   "codemirror_mode": {
    "name": "ipython",
    "version": 3
   },
   "file_extension": ".py",
   "mimetype": "text/x-python",
   "name": "python",
   "nbconvert_exporter": "python",
   "pygments_lexer": "ipython3",
   "version": "3.11.9"
  }
 },
 "nbformat": 4,
 "nbformat_minor": 2
}
