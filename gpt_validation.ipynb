{
 "cells": [
  {
   "cell_type": "code",
   "execution_count": 48,
   "metadata": {},
   "outputs": [],
   "source": [
    "from openai import OpenAI\n",
    "import json\n",
    "from dotenv import load_dotenv\n",
    "import os\n",
    "\n",
    "load_dotenv()\n",
    "\n",
    "api_key=os.getenv(\"OPENAI_API_KEY\")\n",
    "client = OpenAI(api_key=api_key)\n",
    "\n",
    "def reformat_sentiment(original_text, target_sentiment):\n",
    "    response = client.chat.completions.create(\n",
    "        model=\"gpt-3.5-turbo-0125\",  # Or any other suitable model\n",
    "        temperature=0.7,\n",
    "        max_tokens=150,\n",
    "        messages=[\n",
    "            {\"role\": \"system\", \"content\": f\"Please rephrase the following phrase to express a {target_sentiment} sentiment.\"},\n",
    "            {\"role\": \"user\", \"content\": original_text}\n",
    "        ]\n",
    "    )\n",
    "    return response  # Assuming API format returns this path; adjust based on actual API response"
   ]
  },
  {
   "cell_type": "code",
   "execution_count": 49,
   "metadata": {},
   "outputs": [
    {
     "name": "stdout",
     "output_type": "stream",
     "text": [
      "Hello Sam,\n",
      "\n",
      "I greatly appreciate our meeting yesterday. I am excited to continue our conversation about the upcoming project. There are some important points to consider regarding the timeline and resource allocation. It's crucial that we align all team members to prevent any setbacks. I would be grateful if we could schedule a follow-up meeting to delve deeper into this matter.\n",
      "\n",
      "Warm regards,\n",
      "Taylor\n"
     ]
    }
   ],
   "source": [
    "original_text = \"\"\"Hi Sam,\n",
    "\n",
    "Thank you for meeting with me yesterday. I wanted to follow up on our discussion regarding the upcoming project. There are a few issues that need to be addressed concerning the timeline and resource allocation. We need to ensure that all team members are on the same page to avoid any potential delays. Please let me know your availability for a follow-up meeting to discuss this further.\n",
    "\n",
    "Best regards,\n",
    "Taylor\"\"\"\n",
    "target_sentiment = \"positive\"\n",
    "response = reformat_sentiment(original_text, target_sentiment)\n",
    "\n",
    "# response_data = json.loads(response)\n",
    "formatted_content = response.choices[0].message.content\n",
    "\n",
    "print(formatted_content)"
   ]
  }
 ],
 "metadata": {
  "kernelspec": {
   "display_name": "Python 3",
   "language": "python",
   "name": "python3"
  },
  "language_info": {
   "codemirror_mode": {
    "name": "ipython",
    "version": 3
   },
   "file_extension": ".py",
   "mimetype": "text/x-python",
   "name": "python",
   "nbconvert_exporter": "python",
   "pygments_lexer": "ipython3",
   "version": "3.11.9"
  }
 },
 "nbformat": 4,
 "nbformat_minor": 2
}
